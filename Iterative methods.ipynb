{
 "cells": [
  {
   "cell_type": "markdown",
   "metadata": {},
   "source": [
    "# Iterative methods for root finding"
   ]
  },
  {
   "cell_type": "code",
   "execution_count": null,
   "metadata": {},
   "outputs": [],
   "source": [
    "import math"
   ]
  },
  {
   "cell_type": "code",
   "execution_count": null,
   "metadata": {},
   "outputs": [],
   "source": [
    "def func(expr, x):\n",
    "    return eval(expr)"
   ]
  },
  {
   "cell_type": "code",
   "execution_count": null,
   "metadata": {},
   "outputs": [],
   "source": [
    "expr = input(\"f(x) = \")\n",
    "\n",
    "# Initialize some value for root finding\n",
    "\n",
    "a = eval(input(\"Enter a: \"))\n",
    "b = eval(input(\"Enter b: \"))\n",
    "\n",
    "# Tolerance for stopping criteria\n",
    "\n",
    "tol = eval(input(\"Enter tolerance:\"))"
   ]
  },
  {
   "cell_type": "markdown",
   "metadata": {},
   "source": [
    "### Derivative"
   ]
  },
  {
   "cell_type": "code",
   "execution_count": null,
   "metadata": {},
   "outputs": [],
   "source": [
    "def DerivFunc(expr, x):\n",
    "    h = 0.00001\n",
    "    derivative = (func(expr, (x+h)) - (func(expr, (x)))/h)\n",
    "    return derivative"
   ]
  },
  {
   "cell_type": "markdown",
   "metadata": {},
   "source": [
    "### Newton Raphson method"
   ]
  },
  {
   "cell_type": "code",
   "execution_count": null,
   "metadata": {},
   "outputs": [],
   "source": [
    "def newton(x, tol):\n",
    "    cnt = 0\n",
    "    \n",
    "    while True:\n",
    "        if cnt == 0:\n",
    "            g = func(expr, x) / DerivFunc(expr,x)\n",
    "            x = x - g\n",
    "            \n",
    "        z = x\n",
    "        cnt = cnt + 1\n",
    "        g = func(expr, x) / DerivFunc(expr,x)\n",
    "        x = x - g\n",
    "        \n",
    "        if (abs(x - z) < tol):\n",
    "            break\n",
    "    print(\"The value of root is : \",\"%.4f\"%x)\n",
    "    \n",
    "newton(a, tol)"
   ]
  },
  {
   "cell_type": "markdown",
   "metadata": {},
   "source": [
    "### Bisection method"
   ]
  },
  {
   "cell_type": "code",
   "execution_count": null,
   "metadata": {},
   "outputs": [],
   "source": [
    "c = 0.0\n",
    "\n",
    "def bisection(a, b, tol):\n",
    "    if (func(expr, a) * (func(expr, b)) >= 0):\n",
    "        print(\"You have not initialized a & b correctly\") # above expression should be < 0\n",
    "        return\n",
    "    \n",
    "    while True:\n",
    "\n",
    "        # To find mid point\n",
    "        c = (a+b)/2\n",
    "\n",
    "        if (abs(c-a)< tol):\n",
    "            break\n",
    "\n",
    "        # Check if mid point is the root or not\n",
    "        \n",
    "        if (func(expr,c)==0.0):\n",
    "            break\n",
    "        \n",
    "        # Deciding the side to repeat steps\n",
    "        \n",
    "        if (func(expr, a) * (func(expr, c)) < 0):\n",
    "            b = c\n",
    "        else:\n",
    "            a = c\n",
    "    print(\"The value of root is : \",\"%.6f\"%c)\n",
    "    \n",
    "bisection(a, b, tol)"
   ]
  },
  {
   "cell_type": "markdown",
   "metadata": {},
   "source": [
    "### Regular Falsi or False position method"
   ]
  },
  {
   "cell_type": "code",
   "execution_count": null,
   "metadata": {},
   "outputs": [],
   "source": [
    "c = 0.0\n",
    "\n",
    "def regular_falsi(a, b, tol):\n",
    "    if (func(expr, a) * (func(expr, b)) >= 0):\n",
    "        print(\"You have not initialized a & b correctly\") # above expression should be < 0\n",
    "        return\n",
    "    \n",
    "    while True:\n",
    "        c1 = (a * func(expr,b) - b * func(expr, a)) / (func(expr, b) - func(expr, a))\n",
    "        c = round(c1,8)\n",
    "        \n",
    "        if (abs(c-a)< tol):\n",
    "            break\n",
    "        \n",
    "        # Check if the root is found or not\n",
    "        \n",
    "        if (func(expr,c)==0.0):\n",
    "            break\n",
    "        \n",
    "        # Deciding the side to repeat steps\n",
    "        \n",
    "        if (func(expr, a) * (func(expr, c)) < 0):\n",
    "            b = c\n",
    "        else:\n",
    "            a = c\n",
    "    print(\"The value of root is : \",\"%.6f\"%c)\n",
    "    \n",
    "regular_falsi(a, b, tol)"
   ]
  },
  {
   "cell_type": "markdown",
   "metadata": {},
   "source": [
    "### Secant method"
   ]
  },
  {
   "cell_type": "code",
   "execution_count": null,
   "metadata": {},
   "outputs": [],
   "source": [
    "def secant(a, b, tol):\n",
    "    x0 = 0\n",
    "    c = 0\n",
    "    xm = 0\n",
    "    \n",
    "    if (func(expr, a) * (func(expr, b)) < 0):\n",
    "            while True:\n",
    "                x0 = (a * func(expr,b) - b * func(expr, a)) / (func(expr, b) - func(expr, a))\n",
    "                c = func(expr, a) * func(expr, x0)\n",
    "                a = b\n",
    "                b = x0\n",
    "                \n",
    "                if c == 0:\n",
    "                    break\n",
    "                xm = (a * func(expr,b) - b * func(expr, a)) / (func(expr, b) - func(expr, a))\n",
    "                \n",
    "                if (abs(xm - x0) < tol):\n",
    "                    break\n",
    "            print(\"The value of root is : \",\"%.6f\"%xm)\n",
    "\n",
    "secant(a ,b, tol)"
   ]
  },
  {
   "cell_type": "code",
   "execution_count": null,
   "metadata": {},
   "outputs": [],
   "source": []
  }
 ],
 "metadata": {
  "kernelspec": {
   "display_name": "Python 3",
   "language": "python",
   "name": "python3"
  },
  "language_info": {
   "codemirror_mode": {
    "name": "ipython",
    "version": 3
   },
   "file_extension": ".py",
   "mimetype": "text/x-python",
   "name": "python",
   "nbconvert_exporter": "python",
   "pygments_lexer": "ipython3",
   "version": "3.8.1"
  }
 },
 "nbformat": 4,
 "nbformat_minor": 4
}
